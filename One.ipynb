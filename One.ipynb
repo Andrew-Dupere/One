{
 "cells": [
  {
   "cell_type": "markdown",
   "id": "2e6991dd",
   "metadata": {},
   "source": [
    "Question 1\n",
    "Write a function to print \"hello_USERNAME!\" USERNAME is the input of the function. The first line of the code has been defined as below. def hello_name(user_name):"
   ]
  },
  {
   "cell_type": "code",
   "execution_count": 4,
   "id": "215ba063",
   "metadata": {},
   "outputs": [],
   "source": [
    "\n",
    "\n",
    "def hello_name(user_name):\n",
    "    username = user_name.upper()\n",
    "    print(f'Hello_{username}!')"
   ]
  },
  {
   "cell_type": "markdown",
   "id": "2bf5fb02",
   "metadata": {},
   "source": [
    "Question 2\n",
    "Write a python function, first_odds that prints the odd numbers from 1-100 and returns nothing def first_odds():"
   ]
  },
  {
   "cell_type": "code",
   "execution_count": 6,
   "id": "a4d915d0",
   "metadata": {},
   "outputs": [],
   "source": [
    " def first_odds():\n",
    "        for num in range(1,101):\n",
    "            if num %2 != 0:\n",
    "                print(num)"
   ]
  },
  {
   "cell_type": "markdown",
   "id": "398ea0fa",
   "metadata": {},
   "source": [
    "Question 3\n",
    "Please write a Python function, max_num_in_list to return the max number of a given list. The first line of the code has been defined as below. def max_num_in_list(a_list):"
   ]
  },
  {
   "cell_type": "code",
   "execution_count": 14,
   "id": "68dacc5d",
   "metadata": {},
   "outputs": [],
   "source": [
    "def max_num_in_list(a_list):\n",
    "    print(max(a_list))"
   ]
  },
  {
   "cell_type": "markdown",
   "id": "b82695e1",
   "metadata": {},
   "source": [
    "Question 4\n",
    "Write a function to return if the given year is a leap year. A leap year is divisible by 4, but not divisible by 100 unless it is also divisible by 400. The return should be boolean Type (true/false). def is_leap_year(a_year):"
   ]
  },
  {
   "cell_type": "code",
   "execution_count": 16,
   "id": "f48788e6",
   "metadata": {},
   "outputs": [],
   "source": [
    "\n",
    "def is_leap_year(a_year):\n",
    "    if (a_year)/4 %2 == 0 and (a_year)/100 %2 != 0:\n",
    "        return True\n",
    "    elif (a_year)/400 %2 == 0:\n",
    "        return True\n",
    "    else:\n",
    "        return False"
   ]
  },
  {
   "cell_type": "markdown",
   "id": "f8388a41",
   "metadata": {},
   "source": [
    "Question 5\n",
    "\n",
    "Write a function to check to see if all numbers in the list are consecutive numbers. For example, [2,3,4,5,6,7] are consecutive numbers, but [1,2,4,5] are not consecutive numbers. The return should be boolean Type. def is_consecutive(a_list):"
   ]
  },
  {
   "cell_type": "code",
   "execution_count": 17,
   "id": "e9939cdc",
   "metadata": {},
   "outputs": [],
   "source": [
    "def is_consecutive(a_list):\n",
    "    checkList = list(range(a_list[0],a_list[-1]+1))\n",
    "    \n",
    "    \n",
    "    return a_list == checkList"
   ]
  },
  {
   "cell_type": "code",
   "execution_count": null,
   "id": "c40cb79c",
   "metadata": {},
   "outputs": [],
   "source": []
  }
 ],
 "metadata": {
  "celltoolbar": "Raw Cell Format",
  "kernelspec": {
   "display_name": "Python 3 (ipykernel)",
   "language": "python",
   "name": "python3"
  },
  "language_info": {
   "codemirror_mode": {
    "name": "ipython",
    "version": 3
   },
   "file_extension": ".py",
   "mimetype": "text/x-python",
   "name": "python",
   "nbconvert_exporter": "python",
   "pygments_lexer": "ipython3",
   "version": "3.9.13"
  }
 },
 "nbformat": 4,
 "nbformat_minor": 5
}
